{
 "cells": [
  {
   "cell_type": "markdown",
   "id": "897b36e3-ebb6-4aee-bb21-83fdd87f5622",
   "metadata": {},
   "source": [
    "## Preparing of the dataset and loading all necessary tools"
   ]
  },
  {
   "cell_type": "code",
   "execution_count": 1,
   "id": "8db417b9-37be-4b04-97c2-580eec623d8d",
   "metadata": {},
   "outputs": [],
   "source": [
    "import pandas as pd"
   ]
  },
  {
   "cell_type": "code",
   "execution_count": null,
   "id": "9e53f603-2305-4020-b06e-384d26609e75",
   "metadata": {},
   "outputs": [],
   "source": [
    "dataset = pd.read_csv(\"dataset/Training.csv\")"
   ]
  },
  {
   "cell_type": "code",
   "execution_count": null,
   "id": "593ea07c-5cde-49d6-8080-5215909ffc8d",
   "metadata": {
    "scrolled": true
   },
   "outputs": [],
   "source": [
    "dataset.head() #showing the first 5 columns for example of entire training dataset"
   ]
  },
  {
   "cell_type": "code",
   "execution_count": null,
   "id": "38d1630f-b5c8-492d-a6ed-8c87895491f3",
   "metadata": {},
   "outputs": [],
   "source": [
    "dataset.shape #total of 133 symptoms and lots of combined diseases according to the symptoms"
   ]
  },
  {
   "cell_type": "code",
   "execution_count": null,
   "id": "0d640fc4-6c3d-4f2e-aa02-01d27ee90db2",
   "metadata": {},
   "outputs": [],
   "source": [
    "dataset['prognosis'].unique() #names of all unique diseases"
   ]
  },
  {
   "cell_type": "code",
   "execution_count": null,
   "id": "bc511a81-ebe9-48e4-8e81-c26c5571aca9",
   "metadata": {},
   "outputs": [],
   "source": [
    "len(dataset['prognosis'].unique()) #total no. of unique diseases"
   ]
  },
  {
   "cell_type": "markdown",
   "id": "68a01640-94ab-49df-bea0-ab805569ae73",
   "metadata": {},
   "source": [
    "## Train/Test split"
   ]
  },
  {
   "cell_type": "code",
   "execution_count": null,
   "id": "394fe830-84af-4701-8c16-85719aec195d",
   "metadata": {},
   "outputs": [],
   "source": [
    "from sklearn.model_selection import train_test_split\n",
    "from sklearn.preprocessing import LabelEncoder"
   ]
  },
  {
   "cell_type": "code",
   "execution_count": null,
   "id": "f2c04837-fca4-48d4-a171-a775b9cdbda2",
   "metadata": {},
   "outputs": [],
   "source": [
    "X = dataset.drop('prognosis',axis=1) #columnwise delete\n",
    "y = dataset['prognosis'] "
   ]
  },
  {
   "cell_type": "code",
   "execution_count": null,
   "id": "1ad20dd3-a940-4fd7-bf5a-88e62dbfdb31",
   "metadata": {},
   "outputs": [],
   "source": [
    "#converting \"Y\" dataset to numpy arrary and lable encode unique values ie.Symptoms\n",
    "le = LabelEncoder()\n",
    "le.fit(y)\n",
    "Y = le.transform(y)"
   ]
  },
  {
   "cell_type": "code",
   "execution_count": null,
   "id": "1b3a25e2-7e47-42f9-950d-59a3273e67f6",
   "metadata": {},
   "outputs": [],
   "source": [
    "y # before label encoding"
   ]
  },
  {
   "cell_type": "code",
   "execution_count": null,
   "id": "6dc49091-b1d7-4bda-9c0c-8faae08734f5",
   "metadata": {},
   "outputs": [],
   "source": [
    "Y # after label endcoding (machine_readable)"
   ]
  },
  {
   "cell_type": "code",
   "execution_count": null,
   "id": "ee22a343-d0c2-40b3-94a4-077e05980825",
   "metadata": {},
   "outputs": [],
   "source": [
    "X_train, X_test, y_train, y_test = train_test_split(X,Y, test_size=0.3, random_state=20) #training 70% of data for training set and remaining 30% for test"
   ]
  },
  {
   "cell_type": "code",
   "execution_count": null,
   "id": "e11b3673-03c2-4727-bdb0-c3874dca650a",
   "metadata": {},
   "outputs": [],
   "source": [
    "X_train.shape #70% split"
   ]
  },
  {
   "cell_type": "code",
   "execution_count": null,
   "id": "b5a0cff8-44cc-47ae-93fd-ce097aec7c61",
   "metadata": {},
   "outputs": [],
   "source": [
    "X_test.shape #30% split"
   ]
  },
  {
   "cell_type": "code",
   "execution_count": null,
   "id": "739a43d4-3a93-4575-9c5c-0d184e034b47",
   "metadata": {},
   "outputs": [],
   "source": [
    "y_train.shape, y_test.shape  #70-30% split"
   ]
  },
  {
   "cell_type": "markdown",
   "id": "4e46983b-232b-49fd-b5a3-b3396e660037",
   "metadata": {},
   "source": [
    "## Training top models"
   ]
  },
  {
   "cell_type": "code",
   "execution_count": null,
   "id": "66f950ca-8ba9-4826-a6bc-826de7e6fffb",
   "metadata": {},
   "outputs": [],
   "source": [
    "from sklearn.datasets import make_classification\n",
    "from sklearn.svm import SVC\n",
    "from sklearn.ensemble import RandomForestClassifier, GradientBoostingClassifier\n",
    "from sklearn.neighbors import KNeighborsClassifier\n",
    "from sklearn.naive_bayes import MultinomialNB #all the algorithms used\n",
    "\n",
    "from sklearn.metrics import accuracy_score, confusion_matrix\n",
    "import numpy as np\n",
    "\n",
    "# Create a dictionary to store models\n",
    "models = {\n",
    "    \"SVC\": SVC(kernel='linear'),\n",
    "    \"RandomForest\": RandomForestClassifier(n_estimators=100, random_state=42),\n",
    "    \"GradientBoosting\": GradientBoostingClassifier(n_estimators=100, random_state=42),\n",
    "    \"KNeighbors\": KNeighborsClassifier(n_neighbors=5),\n",
    "    \"MultinomialNB\": MultinomialNB()\n",
    "}\n",
    "\n",
    "# Loop through the models, train, test, and print results\n",
    "for model_name, model in models.items():\n",
    "    # Train the model\n",
    "    model.fit(X_train, y_train)\n",
    "\n",
    "    # Test the model\n",
    "    predictions = model.predict(X_test)\n",
    "\n",
    "    # Calculate accuracy\n",
    "    accuracy = accuracy_score(y_test, predictions)\n",
    "\n",
    "    # Calculate confusion matrix\n",
    "    cm = confusion_matrix(y_test, predictions)\n",
    "\n",
    "    print(f\"{model_name} accuracy : {accuracy}\")\n",
    "    print(f\"{model_name} Confusion Matrix:\")\n",
    "    print(np.array2string(cm, separator=', '))"
   ]
  },
  {
   "cell_type": "markdown",
   "id": "c5c9a879-268e-4b29-b554-e5d0dddfd9a2",
   "metadata": {},
   "source": [
    "**Single Prediction**"
   ]
  },
  {
   "cell_type": "code",
   "execution_count": null,
   "id": "e616c0a8-41c4-4477-af4d-28a1aeeab146",
   "metadata": {},
   "outputs": [],
   "source": [
    "# selecting svc\n",
    "svc = SVC(kernel='linear')\n",
    "svc.fit(X_train,y_train)\n",
    "ypred = svc.predict(X_test)\n",
    "accuracy_score(y_test,ypred)"
   ]
  },
  {
   "cell_type": "code",
   "execution_count": null,
   "id": "a9128df0-287d-49de-b4b7-61d8b2a1f35e",
   "metadata": {},
   "outputs": [],
   "source": [
    "import pickle\n",
    "pickle.dump(svc,open('models/svc.pkl','wb'))"
   ]
  },
  {
   "cell_type": "code",
   "execution_count": null,
   "id": "86914a1d-95c8-46a2-968f-21ba37c08e6a",
   "metadata": {},
   "outputs": [],
   "source": [
    "svc = pickle.load(open('models/svc.pkl','rb'))"
   ]
  },
  {
   "cell_type": "code",
   "execution_count": null,
   "id": "6cc57b8d-35fb-4a83-8f7a-f8d502573173",
   "metadata": {},
   "outputs": [],
   "source": [
    "#test-1\n",
    "print(\"Predicted Model:\", svc.predict(X_test.iloc[0].values.reshape(1, -1)))  # Extracting first element from prediction\n",
    "print(\"Actual Model:\", y_test[0])"
   ]
  },
  {
   "cell_type": "code",
   "execution_count": null,
   "id": "0e347447-cdfc-4601-9956-12f36b87d40b",
   "metadata": {},
   "outputs": [],
   "source": [
    "#test-2\n",
    "print(\"Predicted Model:\", svc.predict(X_test.iloc[10].values.reshape(1, -1)))  # Extracting first element from prediction\n",
    "print(\"Actual Model:\", y_test[10])"
   ]
  },
  {
   "cell_type": "markdown",
   "id": "83028a78-d5e9-49a8-9082-3c93c2a4a198",
   "metadata": {},
   "source": [
    "## Load dataset and utilise the logic for the prediction"
   ]
  },
  {
   "cell_type": "code",
   "execution_count": null,
   "id": "39012c2b-55dc-43f4-923f-f1c3f94f77aa",
   "metadata": {},
   "outputs": [],
   "source": [
    "sys_def = pd.read_csv(\"dataset/symptoms.csv\")\n",
    "precautions = pd.read_csv(\"dataset/precautions.csv\")\n",
    "advices = pd.read_csv(\"dataset/advices.csv\")\n",
    "description = pd.read_csv(\"dataset/description.csv\")\n",
    "medications = pd.read_csv(\"dataset/medications.csv\")\n",
    "diets = pd.read_csv(\"dataset/diets.csv\")"
   ]
  },
  {
   "cell_type": "code",
   "execution_count": null,
   "id": "3ed2e4c9-95ee-42c2-8391-816897c48e08",
   "metadata": {},
   "outputs": [],
   "source": [
    "advices"
   ]
  },
  {
   "cell_type": "code",
   "execution_count": null,
   "id": "f609f757-780d-4d0f-a5f9-f835402bfff8",
   "metadata": {},
   "outputs": [],
   "source": [
    "def helper(dis):\n",
    "    desc = description[description['Disease'] == predicted_disease]['Description']\n",
    "    desc = \" \".join([w for w in desc])\n",
    "\n",
    "    pre = precautions[precautions['Disease'] == dis][['Precaution_1', 'Precaution_2', 'Precaution_3', 'Precaution_4']]\n",
    "    pre = [col for col in pre.values]\n",
    "\n",
    "    med = medications[medications['Disease'] == dis]['Medication']\n",
    "    med = [bol for bol in med.values]\n",
    "\n",
    "    die = diets[diets['Disease'] == dis]['Diet']\n",
    "    die = [mol for mol in die.values]\n",
    "\n",
    "    adv = advices[advices['Disease'] == dis] ['Advices']\n",
    "\n",
    "\n",
    "    return desc,pre,med,die,adv"
   ]
  },
  {
   "cell_type": "code",
   "execution_count": null,
   "id": "e8772b07-3688-4277-93b3-2be23d511c52",
   "metadata": {},
   "outputs": [],
   "source": [
    "symptoms_dict = {'itching': 0, 'skin_rash': 1, 'nodal_skin_eruptions': 2, 'continuous_sneezing': 3, 'shivering': 4, 'chills': 5, 'joint_pain': 6, 'stomach_pain': 7, 'acidity': 8, 'ulcers_on_tongue': 9, 'muscle_wasting': 10, 'vomiting': 11, 'burning_micturition': 12, 'spotting_ urination': 13, 'fatigue': 14, 'weight_gain': 15, 'anxiety': 16, 'cold_hands_and_feets': 17, 'mood_swings': 18, 'weight_loss': 19, 'restlessness': 20, 'lethargy': 21, 'patches_in_throat': 22, 'irregular_sugar_level': 23, 'cough': 24, 'high_fever': 25, 'sunken_eyes': 26, 'breathlessness': 27, 'sweating': 28, 'dehydration': 29, 'indigestion': 30, 'headache': 31, 'yellowish_skin': 32, 'dark_urine': 33, 'nausea': 34, 'loss_of_appetite': 35, 'pain_behind_the_eyes': 36, 'back_pain': 37, 'constipation': 38, 'abdominal_pain': 39, 'diarrhoea': 40, 'mild_fever': 41, 'yellow_urine': 42, 'yellowing_of_eyes': 43, 'acute_liver_failure': 44, 'fluid_overload': 45, 'swelling_of_stomach': 46, 'swelled_lymph_nodes': 47, 'malaise': 48, 'blurred_and_distorted_vision': 49, 'phlegm': 50, 'throat_irritation': 51, 'redness_of_eyes': 52, 'sinus_pressure': 53, 'runny_nose': 54, 'congestion': 55, 'chest_pain': 56, 'weakness_in_limbs': 57, 'fast_heart_rate': 58, 'pain_during_bowel_movements': 59, 'pain_in_anal_region': 60, 'bloody_stool': 61, 'irritation_in_anus': 62, 'neck_pain': 63, 'dizziness': 64, 'cramps': 65, 'bruising': 66, 'obesity': 67, 'swollen_legs': 68, 'swollen_blood_vessels': 69, 'puffy_face_and_eyes': 70, 'enlarged_thyroid': 71, 'brittle_nails': 72, 'swollen_extremeties': 73, 'excessive_hunger': 74, 'extra_marital_contacts': 75, 'drying_and_tingling_lips': 76, 'slurred_speech': 77, 'knee_pain': 78, 'hip_joint_pain': 79, 'muscle_weakness': 80, 'stiff_neck': 81, 'swelling_joints': 82, 'movement_stiffness': 83, 'spinning_movements': 84, 'loss_of_balance': 85, 'unsteadiness': 86, 'weakness_of_one_body_side': 87, 'loss_of_smell': 88, 'bladder_discomfort': 89, 'foul_smell_of urine': 90, 'continuous_feel_of_urine': 91, 'passage_of_gases': 92, 'internal_itching': 93, 'toxic_look_(typhos)': 94, 'depression': 95, 'irritability': 96, 'muscle_pain': 97, 'altered_sensorium': 98, 'red_spots_over_body': 99, 'belly_pain': 100, 'abnormal_menstruation': 101, 'dischromic _patches': 102, 'watering_from_eyes': 103, 'increased_appetite': 104, 'polyuria': 105, 'family_history': 106, 'mucoid_sputum': 107, 'rusty_sputum': 108, 'lack_of_concentration': 109, 'visual_disturbances': 110, 'receiving_blood_transfusion': 111, 'receiving_unsterile_injections': 112, 'coma': 113, 'stomach_bleeding': 114, 'distention_of_abdomen': 115, 'history_of_alcohol_consumption': 116, 'fluid_overload.1': 117, 'blood_in_sputum': 118, 'prominent_veins_on_calf': 119, 'palpitations': 120, 'painful_walking': 121, 'pus_filled_pimples': 122, 'blackheads': 123, 'scurring': 124, 'skin_peeling': 125, 'silver_like_dusting': 126, 'small_dents_in_nails': 127, 'inflammatory_nails': 128, 'blister': 129, 'red_sore_around_nose': 130, 'yellow_crust_ooze': 131}\n",
    "diseases_list = {15: 'Fungal infection', 4: 'Allergy', 16: 'GERD', 9: 'Chronic cholestasis', 14: 'Drug Reaction', 33: 'Peptic ulcer diseae', 1: 'AIDS', 12: 'Diabetes ', 17: 'Gastroenteritis', 6: 'Bronchial Asthma', 23: 'Hypertension ', 30: 'Migraine', 7: 'Cervical spondylosis', 32: 'Paralysis (brain hemorrhage)', 28: 'Jaundice', 29: 'Malaria', 8: 'Chicken pox', 11: 'Dengue', 37: 'Typhoid', 40: 'hepatitis A', 19: 'Hepatitis B', 20: 'Hepatitis C', 21: 'Hepatitis D', 22: 'Hepatitis E', 3: 'Alcoholic hepatitis', 36: 'Tuberculosis', 10: 'Common Cold', 34: 'Pneumonia', 13: 'Dimorphic hemmorhoids(piles)', 18: 'Heart attack', 39: 'Varicose veins', 26: 'Hypothyroidism', 24: 'Hyperthyroidism', 25: 'Hypoglycemia', 31: 'Osteoarthristis', 5: 'Arthritis', 0: '(vertigo) Paroymsal  Positional Vertigo', 2: 'Acne', 38: 'Urinary tract infection', 35: 'Psoriasis', 27: 'Impetigo'}\n",
    "\n",
    "# Model Prediction function\n",
    "def get_predicted_value(patient_symptoms):\n",
    "    input_vector = np.zeros(len(symptoms_dict))\n",
    "    for item in patient_symptoms:\n",
    "        input_vector[symptoms_dict[item]] = 1\n",
    "    return diseases_list[svc.predict([input_vector])[0]]\n",
    "    "
   ]
  },
  {
   "cell_type": "code",
   "execution_count": null,
   "id": "f346760e-f0a8-490f-ae19-343d3a61818b",
   "metadata": {
    "scrolled": true
   },
   "outputs": [],
   "source": [
    "# Test 1\n",
    "# Split the user's input into a list of symptoms (assuming they are comma-separated) # itching,skin_rash,nodal_skin_eruptions\n",
    "symptoms = input(\"Enter your symptoms:\")\n",
    "user_symptoms = [s.strip() for s in symptoms.split(',')] # Remove any extra characters, if any\n",
    "user_symptoms = [symptom.strip(\"[]' \") for symptom in user_symptoms]\n",
    "predicted_disease = get_predicted_value(user_symptoms)\n",
    "\n",
    "desc, pre, med, die, adv = helper(predicted_disease)\n",
    "print(\"Predicted Disease:\")\n",
    "print(predicted_disease)\n",
    "print(\"Description:\")\n",
    "print(desc)\n",
    "print(\"Precautions:\")\n",
    "i = 1\n",
    "for p_i in pre[0]:\n",
    "    print(i, \": \", p_i)\n",
    "    i += 1\n",
    "\n",
    "print(\"Medications:\")\n",
    "for m_i in med:\n",
    "    print(i, \": \", m_i)\n",
    "    i += 1\n",
    "\n",
    "print(\"Advices:\")\n",
    "for a_i in adv:\n",
    "    print(i, \": \", a_i)\n",
    "    i += 1\n",
    "\n",
    "print(\"Diet:\")\n",
    "for d_i in die:\n",
    "    print(i, \": \", d_i)\n",
    "    i += 1\n"
   ]
  },
  {
   "cell_type": "code",
   "execution_count": 1,
   "id": "4afaf229-4893-4fde-b81c-0c8308f3b60d",
   "metadata": {},
   "outputs": [
    {
     "name": "stdout",
     "output_type": "stream",
     "text": [
      "1.6.1\n"
     ]
    }
   ],
   "source": [
    "# continued with pycharm/flask app\n",
    "import sklearn\n",
    "print(sklearn.__version__)"
   ]
  }
 ],
 "metadata": {
  "kernelspec": {
   "display_name": "venv",
   "language": "python",
   "name": "python3"
  },
  "language_info": {
   "codemirror_mode": {
    "name": "ipython",
    "version": 3
   },
   "file_extension": ".py",
   "mimetype": "text/x-python",
   "name": "python",
   "nbconvert_exporter": "python",
   "pygments_lexer": "ipython3",
   "version": "3.12.3"
  }
 },
 "nbformat": 4,
 "nbformat_minor": 5
}
